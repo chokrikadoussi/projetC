{
  "nbformat": 4,
  "nbformat_minor": 0,
  "metadata": {
    "colab": {
      "provenance": []
    },
    "kernelspec": {
      "name": "python3",
      "display_name": "Python 3"
    },
    "language_info": {
      "name": "python"
    }
  },
  "cells": [
    {
      "cell_type": "code",
      "source": [
        "!pip install osmnx --quiet"
      ],
      "metadata": {
        "colab": {
          "base_uri": "https://localhost:8080/"
        },
        "id": "9eXZlTPqHenR",
        "outputId": "50b2db8f-486a-487d-a6ba-3e7486e3826e"
      },
      "execution_count": 2,
      "outputs": [
        {
          "output_type": "stream",
          "name": "stdout",
          "text": [
            "\u001b[?25l   \u001b[90m━━━━━━━━━━━━━━━━━━━━━━━━━━━━━━━━━━━━━━━━\u001b[0m \u001b[32m0.0/99.9 kB\u001b[0m \u001b[31m?\u001b[0m eta \u001b[36m-:--:--\u001b[0m\r\u001b[2K   \u001b[90m━━━━━━━━━━━━━━━━━━━━━━━━━━━━━━━━━━━━━━━━\u001b[0m \u001b[32m99.9/99.9 kB\u001b[0m \u001b[31m2.7 MB/s\u001b[0m eta \u001b[36m0:00:00\u001b[0m\n",
            "\u001b[?25h"
          ]
        }
      ]
    },
    {
      "cell_type": "code",
      "execution_count": 3,
      "metadata": {
        "id": "OuMigHVJHUH1"
      },
      "outputs": [],
      "source": [
        "import osmnx as ox\n",
        "import geopandas as gpd\n",
        "import pandas as pd\n",
        "from shapely.geometry import Point\n",
        "import unicodedata\n",
        "\n"
      ]
    },
    {
      "cell_type": "code",
      "source": [
        "# Télécharger tout le graphe routier de Paris\n",
        "G = ox.graph_from_place(\"Paris, France\", network_type='drive')\n",
        "gdf_rues = ox.graph_to_gdfs(G, nodes=False, edges=True)\n",
        "gdf_rues = gdf_rues[gdf_rues[\"name\"].notna()]  # Garder uniquement les rues nommées\n"
      ],
      "metadata": {
        "id": "Z5oIz5i1HYuf"
      },
      "execution_count": 4,
      "outputs": []
    },
    {
      "cell_type": "code",
      "source": [
        "def normalize_street_name(name):\n",
        "    if isinstance(name, list):\n",
        "        name = name[0] if name else ''\n",
        "    elif name is None:\n",
        "        name = ''\n",
        "    return unicodedata.normalize('NFKD', str(name)).encode('ASCII', 'ignore').decode('utf-8').upper()\n",
        "\n",
        "gdf_rues['name'] = gdf_rues['name'].apply(normalize_street_name)\n"
      ],
      "metadata": {
        "id": "dxgvDu_UHnyr"
      },
      "execution_count": 5,
      "outputs": []
    },
    {
      "cell_type": "code",
      "source": [
        "# Tes coordonnées de test (ajoute autant que tu veux)\n",
        "coordinates = [\n",
        "    (48.8480778, 2.3505051),\n",
        "    (48.8523487, 2.3482382),\n",
        "    (48.8560699, 2.3507047),\n",
        "]\n",
        "\n",
        "gdf_points = gpd.GeoDataFrame(geometry=[Point(lon, lat) for lat, lon in coordinates], crs=\"EPSG:4326\")\n",
        "\n",
        "buffer_radius = 0.0002  # ~20m\n",
        "results = []\n",
        "\n",
        "for idx, point in gdf_points.iterrows():\n",
        "    buffer = point.geometry.buffer(buffer_radius)\n",
        "    matches = gdf_rues[gdf_rues.intersects(buffer)]\n",
        "    matched_names = matches[\"name\"].unique().tolist()\n",
        "    results.append({\n",
        "        \"point\": coordinates[idx],\n",
        "        \"matched_rues\": matched_names\n",
        "    })\n",
        "\n",
        "for r in results:\n",
        "    print(f\"📍 Point {r['point']} → {', '.join(r['matched_rues']) if r['matched_rues'] else '❌ Aucune rue détectée'}\")\n"
      ],
      "metadata": {
        "colab": {
          "base_uri": "https://localhost:8080/"
        },
        "id": "UWbRPwQWHwBL",
        "outputId": "cec4032f-428d-4ee5-b6eb-de62b037b9ee"
      },
      "execution_count": 6,
      "outputs": [
        {
          "output_type": "stream",
          "name": "stdout",
          "text": [
            "📍 Point (48.8480778, 2.3505051) → RUE MONGE, RUE DES ECOLES\n",
            "📍 Point (48.8523487, 2.3482382) → QUAI DE MONTEBELLO, RUE LAGRANGE\n",
            "📍 Point (48.8560699, 2.3507047) → QUAI DE L'HOTEL DE VILLE, PLACE DE L'HOTEL DE VILLE, PONT D'ARCOLE, QUAI DE GESVRES\n"
          ]
        }
      ]
    },
    {
      "cell_type": "code",
      "source": [
        "# Tes coordonnées de test (ajoute autant que tu veux)\n",
        "coordinates = [\n",
        "    (48.8748138, 2.3573832),\n",
        "    (48.8689741, 2.3557506),\n",
        "    (48.8696795, 2.3507047),\n",
        "]\n",
        "\n",
        "gdf_points = gpd.GeoDataFrame(geometry=[Point(lon, lat) for lat, lon in coordinates], crs=\"EPSG:4326\")\n",
        "\n",
        "buffer_radius = 0.0002  # ~20m\n",
        "results = []\n",
        "\n",
        "for idx, point in gdf_points.iterrows():\n",
        "    buffer = point.geometry.buffer(buffer_radius)\n",
        "    matches = gdf_rues[gdf_rues.intersects(buffer)]\n",
        "    matched_names = matches[\"name\"].unique().tolist()\n",
        "    results.append({\n",
        "        \"point\": coordinates[idx],\n",
        "        \"matched_rues\": matched_names\n",
        "    })\n",
        "\n",
        "for r in results:\n",
        "    print(f\"📍 Point {r['point']} → {', '.join(r['matched_rues']) if r['matched_rues'] else '❌ Aucune rue détectée'}\")\n"
      ],
      "metadata": {
        "colab": {
          "base_uri": "https://localhost:8080/"
        },
        "id": "dSGErrw5H1jz",
        "outputId": "ec7d9c43-e114-4224-8aca-54878a79187e"
      },
      "execution_count": 7,
      "outputs": [
        {
          "output_type": "stream",
          "name": "stdout",
          "text": [
            "📍 Point (48.8748138, 2.3573832) → BOULEVARD DE MAGENTA, BOULEVARD DE STRASBOURG, RUE DE LA FIDELITE\n",
            "📍 Point (48.8689741, 2.3557506) → BOULEVARD SAINT-DENIS, BOULEVARD SAINT-MARTIN, RUE SAINT-MARTIN, CARREFOUR DES THEATRES\n",
            "📍 Point (48.8696795, 2.3507047) → RUE BEAUREGARD, RUE DE LA LUNE\n"
          ]
        }
      ]
    },
    {
      "cell_type": "code",
      "source": [
        "# Tes coordonnées de test (ajoute autant que tu veux)\n",
        "coordinates = [\n",
        "    (48.8804947, 2.3523043),\n",
        "    (48.8719982, 2.3400527),\n",
        "    (48.8722422, 2.3382998),\n",
        "    (48.8729396,2.3332569),\n",
        "    (48.8742709,2.3313146),\n",
        "    (48.8742988,2.3327119),\n",
        "    (48.8761423,2.3311152)\n",
        "]\n",
        "\n",
        "gdf_points = gpd.GeoDataFrame(geometry=[Point(lon, lat) for lat, lon in coordinates], crs=\"EPSG:4326\")\n",
        "\n",
        "buffer_radius = 0.0002  # ~20m\n",
        "results = []\n",
        "\n",
        "for idx, point in gdf_points.iterrows():\n",
        "    buffer = point.geometry.buffer(buffer_radius)\n",
        "    matches = gdf_rues[gdf_rues.intersects(buffer)]\n",
        "    matched_names = matches[\"name\"].unique().tolist()\n",
        "    results.append({\n",
        "        \"point\": coordinates[idx],\n",
        "        \"matched_rues\": matched_names\n",
        "    })\n",
        "\n",
        "for r in results:\n",
        "    print(f\"📍 Point {r['point']} → {', '.join(r['matched_rues']) if r['matched_rues'] else '❌ Aucune rue détectée'}\")\n"
      ],
      "metadata": {
        "colab": {
          "base_uri": "https://localhost:8080/"
        },
        "id": "9wN1Ua7NH3jR",
        "outputId": "4d44018a-f088-4b26-8c4d-e149329d7a08"
      },
      "execution_count": 8,
      "outputs": [
        {
          "output_type": "stream",
          "name": "stdout",
          "text": [
            "📍 Point (48.8804947, 2.3523043) → BOULEVARD DE MAGENTA, RUE SAINT-VINCENT DE PAUL, RUE DE MAUBEUGE, RUE DE DUNKERQUE\n",
            "📍 Point (48.8719982, 2.3400527) → RUE DE RICHELIEU, BOULEVARD HAUSSMANN, RUE DROUOT, BOULEVARD MONTMARTRE, BOULEVARD DES ITALIENS\n",
            "📍 Point (48.8722422, 2.3382998) → BOULEVARD HAUSSMANN, RUE LE PELETIER\n",
            "📍 Point (48.8729396, 2.3332569) → RUE DE LA CHAUSSEE-D'ANTIN, BOULEVARD HAUSSMANN, PLACE THEOPHILE BADER, RUE HALEVY, RUE LA FAYETTE\n",
            "📍 Point (48.8742709, 2.3313146) → RUE DE PROVENCE, RUE DE MOGADOR\n",
            "📍 Point (48.8742988, 2.3327119) → RUE DE PROVENCE, RUE DE LA CHAUSSEE-D'ANTIN\n",
            "📍 Point (48.8761423, 2.3311152) → RUE SAINT-LAZARE, RUE DE MOGADOR\n"
          ]
        }
      ]
    }
  ]
}