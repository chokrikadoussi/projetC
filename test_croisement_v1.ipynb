{
  "nbformat": 4,
  "nbformat_minor": 0,
  "metadata": {
    "colab": {
      "provenance": []
    },
    "kernelspec": {
      "name": "python3",
      "display_name": "Python 3"
    },
    "language_info": {
      "name": "python"
    }
  },
  "cells": [
    {
      "cell_type": "markdown",
      "source": [
        "# Mise en place d'un algo pour trouver les croisements"
      ],
      "metadata": {
        "id": "Rsi1sR9mQZDU"
      }
    },
    {
      "cell_type": "code",
      "source": [
        "!pip install osmnx --quiet"
      ],
      "metadata": {
        "colab": {
          "base_uri": "https://localhost:8080/"
        },
        "id": "9eXZlTPqHenR",
        "outputId": "50b2db8f-486a-487d-a6ba-3e7486e3826e"
      },
      "execution_count": 2,
      "outputs": [
        {
          "output_type": "stream",
          "name": "stdout",
          "text": [
            "\u001b[?25l   \u001b[90m━━━━━━━━━━━━━━━━━━━━━━━━━━━━━━━━━━━━━━━━\u001b[0m \u001b[32m0.0/99.9 kB\u001b[0m \u001b[31m?\u001b[0m eta \u001b[36m-:--:--\u001b[0m\r\u001b[2K   \u001b[90m━━━━━━━━━━━━━━━━━━━━━━━━━━━━━━━━━━━━━━━━\u001b[0m \u001b[32m99.9/99.9 kB\u001b[0m \u001b[31m2.7 MB/s\u001b[0m eta \u001b[36m0:00:00\u001b[0m\n",
            "\u001b[?25h"
          ]
        }
      ]
    },
    {
      "cell_type": "code",
      "execution_count": 3,
      "metadata": {
        "id": "OuMigHVJHUH1"
      },
      "outputs": [],
      "source": [
        "import osmnx as ox\n",
        "import geopandas as gpd\n",
        "import pandas as pd\n",
        "from shapely.geometry import Point\n",
        "import unicodedata\n",
        "\n"
      ]
    },
    {
      "cell_type": "code",
      "source": [
        "# Télécharger tout le graphe routier de Paris\n",
        "G = ox.graph_from_place(\"Paris, France\", network_type='drive')\n",
        "gdf_rues = ox.graph_to_gdfs(G, nodes=False, edges=True)\n",
        "gdf_rues = gdf_rues[gdf_rues[\"name\"].notna()]  # Garder uniquement les rues nommées\n"
      ],
      "metadata": {
        "colab": {
          "base_uri": "https://localhost:8080/",
          "height": 356
        },
        "collapsed": true,
        "id": "Z5oIz5i1HYuf",
        "outputId": "fbd9b5ee-daa9-43b0-c244-9a0e83660393"
      },
      "execution_count": 9,
      "outputs": [
        {
          "output_type": "error",
          "ename": "KeyboardInterrupt",
          "evalue": "",
          "traceback": [
            "\u001b[0;31m---------------------------------------------------------------------------\u001b[0m",
            "\u001b[0;31mKeyboardInterrupt\u001b[0m                         Traceback (most recent call last)",
            "\u001b[0;32m<ipython-input-9-8a81c146121c>\u001b[0m in \u001b[0;36m<cell line: 0>\u001b[0;34m()\u001b[0m\n\u001b[1;32m      1\u001b[0m \u001b[0;31m# Télécharger tout le graphe routier de Paris\u001b[0m\u001b[0;34m\u001b[0m\u001b[0;34m\u001b[0m\u001b[0m\n\u001b[0;32m----> 2\u001b[0;31m \u001b[0mG\u001b[0m \u001b[0;34m=\u001b[0m \u001b[0mox\u001b[0m\u001b[0;34m.\u001b[0m\u001b[0mgraph_from_place\u001b[0m\u001b[0;34m(\u001b[0m\u001b[0;34m\"Paris, France\"\u001b[0m\u001b[0;34m,\u001b[0m \u001b[0mnetwork_type\u001b[0m\u001b[0;34m=\u001b[0m\u001b[0;34m'walk'\u001b[0m\u001b[0;34m)\u001b[0m\u001b[0;34m\u001b[0m\u001b[0;34m\u001b[0m\u001b[0m\n\u001b[0m\u001b[1;32m      3\u001b[0m \u001b[0mgdf_rues\u001b[0m \u001b[0;34m=\u001b[0m \u001b[0mox\u001b[0m\u001b[0;34m.\u001b[0m\u001b[0mgraph_to_gdfs\u001b[0m\u001b[0;34m(\u001b[0m\u001b[0mG\u001b[0m\u001b[0;34m,\u001b[0m \u001b[0mnodes\u001b[0m\u001b[0;34m=\u001b[0m\u001b[0;32mFalse\u001b[0m\u001b[0;34m,\u001b[0m \u001b[0medges\u001b[0m\u001b[0;34m=\u001b[0m\u001b[0;32mTrue\u001b[0m\u001b[0;34m)\u001b[0m\u001b[0;34m\u001b[0m\u001b[0;34m\u001b[0m\u001b[0m\n\u001b[1;32m      4\u001b[0m \u001b[0mgdf_rues\u001b[0m \u001b[0;34m=\u001b[0m \u001b[0mgdf_rues\u001b[0m\u001b[0;34m[\u001b[0m\u001b[0mgdf_rues\u001b[0m\u001b[0;34m[\u001b[0m\u001b[0;34m\"name\"\u001b[0m\u001b[0;34m]\u001b[0m\u001b[0;34m.\u001b[0m\u001b[0mnotna\u001b[0m\u001b[0;34m(\u001b[0m\u001b[0;34m)\u001b[0m\u001b[0;34m]\u001b[0m  \u001b[0;31m# Garder uniquement les rues nommées\u001b[0m\u001b[0;34m\u001b[0m\u001b[0;34m\u001b[0m\u001b[0m\n",
            "\u001b[0;32m/usr/local/lib/python3.11/dist-packages/osmnx/graph.py\u001b[0m in \u001b[0;36mgraph_from_place\u001b[0;34m(query, network_type, simplify, retain_all, truncate_by_edge, which_result, custom_filter)\u001b[0m\n\u001b[1;32m    393\u001b[0m \u001b[0;34m\u001b[0m\u001b[0m\n\u001b[1;32m    394\u001b[0m     \u001b[0;31m# create graph using this polygon(s) geometry\u001b[0m\u001b[0;34m\u001b[0m\u001b[0;34m\u001b[0m\u001b[0m\n\u001b[0;32m--> 395\u001b[0;31m     G = graph_from_polygon(\n\u001b[0m\u001b[1;32m    396\u001b[0m         \u001b[0mpolygon\u001b[0m\u001b[0;34m,\u001b[0m\u001b[0;34m\u001b[0m\u001b[0;34m\u001b[0m\u001b[0m\n\u001b[1;32m    397\u001b[0m         \u001b[0mnetwork_type\u001b[0m\u001b[0;34m=\u001b[0m\u001b[0mnetwork_type\u001b[0m\u001b[0;34m,\u001b[0m\u001b[0;34m\u001b[0m\u001b[0;34m\u001b[0m\u001b[0m\n",
            "\u001b[0;32m/usr/local/lib/python3.11/dist-packages/osmnx/graph.py\u001b[0m in \u001b[0;36mgraph_from_polygon\u001b[0;34m(polygon, network_type, simplify, retain_all, truncate_by_edge, custom_filter)\u001b[0m\n\u001b[1;32m    507\u001b[0m     \u001b[0;31m# simplify the graph topology\u001b[0m\u001b[0;34m\u001b[0m\u001b[0;34m\u001b[0m\u001b[0m\n\u001b[1;32m    508\u001b[0m     \u001b[0;32mif\u001b[0m \u001b[0msimplify\u001b[0m\u001b[0;34m:\u001b[0m\u001b[0;34m\u001b[0m\u001b[0;34m\u001b[0m\u001b[0m\n\u001b[0;32m--> 509\u001b[0;31m         \u001b[0mG_buff\u001b[0m \u001b[0;34m=\u001b[0m \u001b[0msimplification\u001b[0m\u001b[0;34m.\u001b[0m\u001b[0msimplify_graph\u001b[0m\u001b[0;34m(\u001b[0m\u001b[0mG_buff\u001b[0m\u001b[0;34m)\u001b[0m\u001b[0;34m\u001b[0m\u001b[0;34m\u001b[0m\u001b[0m\n\u001b[0m\u001b[1;32m    510\u001b[0m \u001b[0;34m\u001b[0m\u001b[0m\n\u001b[1;32m    511\u001b[0m     \u001b[0;31m# truncate graph by original polygon to return graph within polygon\u001b[0m\u001b[0;34m\u001b[0m\u001b[0;34m\u001b[0m\u001b[0m\n",
            "\u001b[0;32m/usr/local/lib/python3.11/dist-packages/osmnx/simplification.py\u001b[0m in \u001b[0;36msimplify_graph\u001b[0;34m(G, node_attrs_include, edge_attrs_differ, remove_rings, track_merged, edge_attr_aggs)\u001b[0m\n\u001b[1;32m    407\u001b[0m \u001b[0;34m\u001b[0m\u001b[0m\n\u001b[1;32m    408\u001b[0m         \u001b[0;31m# construct the new consolidated edge's geometry for this path\u001b[0m\u001b[0;34m\u001b[0m\u001b[0;34m\u001b[0m\u001b[0m\n\u001b[0;32m--> 409\u001b[0;31m         path_attributes[\"geometry\"] = LineString(\n\u001b[0m\u001b[1;32m    410\u001b[0m             \u001b[0;34m[\u001b[0m\u001b[0mPoint\u001b[0m\u001b[0;34m(\u001b[0m\u001b[0;34m(\u001b[0m\u001b[0mG\u001b[0m\u001b[0;34m.\u001b[0m\u001b[0mnodes\u001b[0m\u001b[0;34m[\u001b[0m\u001b[0mnode\u001b[0m\u001b[0;34m]\u001b[0m\u001b[0;34m[\u001b[0m\u001b[0;34m\"x\"\u001b[0m\u001b[0;34m]\u001b[0m\u001b[0;34m,\u001b[0m \u001b[0mG\u001b[0m\u001b[0;34m.\u001b[0m\u001b[0mnodes\u001b[0m\u001b[0;34m[\u001b[0m\u001b[0mnode\u001b[0m\u001b[0;34m]\u001b[0m\u001b[0;34m[\u001b[0m\u001b[0;34m\"y\"\u001b[0m\u001b[0;34m]\u001b[0m\u001b[0;34m)\u001b[0m\u001b[0;34m)\u001b[0m \u001b[0;32mfor\u001b[0m \u001b[0mnode\u001b[0m \u001b[0;32min\u001b[0m \u001b[0mpath\u001b[0m\u001b[0;34m]\u001b[0m\u001b[0;34m,\u001b[0m\u001b[0;34m\u001b[0m\u001b[0;34m\u001b[0m\u001b[0m\n\u001b[1;32m    411\u001b[0m         )\n",
            "\u001b[0;32m/usr/local/lib/python3.11/dist-packages/shapely/geometry/linestring.py\u001b[0m in \u001b[0;36m__new__\u001b[0;34m(self, coordinates)\u001b[0m\n\u001b[1;32m     67\u001b[0m                         \u001b[0;32mreturn\u001b[0m \u001b[0;34m[\u001b[0m\u001b[0mfloat\u001b[0m\u001b[0;34m(\u001b[0m\u001b[0mc\u001b[0m\u001b[0;34m)\u001b[0m \u001b[0;32mfor\u001b[0m \u001b[0mc\u001b[0m \u001b[0;32min\u001b[0m \u001b[0mo\u001b[0m\u001b[0;34m]\u001b[0m\u001b[0;34m\u001b[0m\u001b[0;34m\u001b[0m\u001b[0m\n\u001b[1;32m     68\u001b[0m \u001b[0;34m\u001b[0m\u001b[0m\n\u001b[0;32m---> 69\u001b[0;31m                 \u001b[0mcoordinates\u001b[0m \u001b[0;34m=\u001b[0m \u001b[0;34m[\u001b[0m\u001b[0m_coords\u001b[0m\u001b[0;34m(\u001b[0m\u001b[0mo\u001b[0m\u001b[0;34m)\u001b[0m \u001b[0;32mfor\u001b[0m \u001b[0mo\u001b[0m \u001b[0;32min\u001b[0m \u001b[0mcoordinates\u001b[0m\u001b[0;34m]\u001b[0m\u001b[0;34m\u001b[0m\u001b[0;34m\u001b[0m\u001b[0m\n\u001b[0m\u001b[1;32m     70\u001b[0m \u001b[0;34m\u001b[0m\u001b[0m\n\u001b[1;32m     71\u001b[0m         \u001b[0;32mif\u001b[0m \u001b[0mlen\u001b[0m\u001b[0;34m(\u001b[0m\u001b[0mcoordinates\u001b[0m\u001b[0;34m)\u001b[0m \u001b[0;34m==\u001b[0m \u001b[0;36m0\u001b[0m\u001b[0;34m:\u001b[0m\u001b[0;34m\u001b[0m\u001b[0;34m\u001b[0m\u001b[0m\n",
            "\u001b[0;32m/usr/local/lib/python3.11/dist-packages/shapely/geometry/linestring.py\u001b[0m in \u001b[0;36m<listcomp>\u001b[0;34m(.0)\u001b[0m\n\u001b[1;32m     67\u001b[0m                         \u001b[0;32mreturn\u001b[0m \u001b[0;34m[\u001b[0m\u001b[0mfloat\u001b[0m\u001b[0;34m(\u001b[0m\u001b[0mc\u001b[0m\u001b[0;34m)\u001b[0m \u001b[0;32mfor\u001b[0m \u001b[0mc\u001b[0m \u001b[0;32min\u001b[0m \u001b[0mo\u001b[0m\u001b[0;34m]\u001b[0m\u001b[0;34m\u001b[0m\u001b[0;34m\u001b[0m\u001b[0m\n\u001b[1;32m     68\u001b[0m \u001b[0;34m\u001b[0m\u001b[0m\n\u001b[0;32m---> 69\u001b[0;31m                 \u001b[0mcoordinates\u001b[0m \u001b[0;34m=\u001b[0m \u001b[0;34m[\u001b[0m\u001b[0m_coords\u001b[0m\u001b[0;34m(\u001b[0m\u001b[0mo\u001b[0m\u001b[0;34m)\u001b[0m \u001b[0;32mfor\u001b[0m \u001b[0mo\u001b[0m \u001b[0;32min\u001b[0m \u001b[0mcoordinates\u001b[0m\u001b[0;34m]\u001b[0m\u001b[0;34m\u001b[0m\u001b[0;34m\u001b[0m\u001b[0m\n\u001b[0m\u001b[1;32m     70\u001b[0m \u001b[0;34m\u001b[0m\u001b[0m\n\u001b[1;32m     71\u001b[0m         \u001b[0;32mif\u001b[0m \u001b[0mlen\u001b[0m\u001b[0;34m(\u001b[0m\u001b[0mcoordinates\u001b[0m\u001b[0;34m)\u001b[0m \u001b[0;34m==\u001b[0m \u001b[0;36m0\u001b[0m\u001b[0;34m:\u001b[0m\u001b[0;34m\u001b[0m\u001b[0;34m\u001b[0m\u001b[0m\n",
            "\u001b[0;32m/usr/local/lib/python3.11/dist-packages/shapely/geometry/linestring.py\u001b[0m in \u001b[0;36m_coords\u001b[0;34m(o)\u001b[0m\n\u001b[1;32m     63\u001b[0m                 \u001b[0;32mdef\u001b[0m \u001b[0m_coords\u001b[0m\u001b[0;34m(\u001b[0m\u001b[0mo\u001b[0m\u001b[0;34m)\u001b[0m\u001b[0;34m:\u001b[0m\u001b[0;34m\u001b[0m\u001b[0;34m\u001b[0m\u001b[0m\n\u001b[1;32m     64\u001b[0m                     \u001b[0;32mif\u001b[0m \u001b[0misinstance\u001b[0m\u001b[0;34m(\u001b[0m\u001b[0mo\u001b[0m\u001b[0;34m,\u001b[0m \u001b[0mPoint\u001b[0m\u001b[0;34m)\u001b[0m\u001b[0;34m:\u001b[0m\u001b[0;34m\u001b[0m\u001b[0;34m\u001b[0m\u001b[0m\n\u001b[0;32m---> 65\u001b[0;31m                         \u001b[0;32mreturn\u001b[0m \u001b[0mo\u001b[0m\u001b[0;34m.\u001b[0m\u001b[0mcoords\u001b[0m\u001b[0;34m[\u001b[0m\u001b[0;36m0\u001b[0m\u001b[0;34m]\u001b[0m\u001b[0;34m\u001b[0m\u001b[0;34m\u001b[0m\u001b[0m\n\u001b[0m\u001b[1;32m     66\u001b[0m                     \u001b[0;32melse\u001b[0m\u001b[0;34m:\u001b[0m\u001b[0;34m\u001b[0m\u001b[0;34m\u001b[0m\u001b[0m\n\u001b[1;32m     67\u001b[0m                         \u001b[0;32mreturn\u001b[0m \u001b[0;34m[\u001b[0m\u001b[0mfloat\u001b[0m\u001b[0;34m(\u001b[0m\u001b[0mc\u001b[0m\u001b[0;34m)\u001b[0m \u001b[0;32mfor\u001b[0m \u001b[0mc\u001b[0m \u001b[0;32min\u001b[0m \u001b[0mo\u001b[0m\u001b[0;34m]\u001b[0m\u001b[0;34m\u001b[0m\u001b[0;34m\u001b[0m\u001b[0m\n",
            "\u001b[0;32m/usr/local/lib/python3.11/dist-packages/shapely/geometry/base.py\u001b[0m in \u001b[0;36mcoords\u001b[0;34m(self)\u001b[0m\n\u001b[1;32m    222\u001b[0m         \u001b[0mhas_z\u001b[0m \u001b[0;34m=\u001b[0m \u001b[0mself\u001b[0m\u001b[0;34m.\u001b[0m\u001b[0mhas_z\u001b[0m\u001b[0;34m\u001b[0m\u001b[0;34m\u001b[0m\u001b[0m\n\u001b[1;32m    223\u001b[0m         \u001b[0mhas_m\u001b[0m \u001b[0;34m=\u001b[0m \u001b[0mself\u001b[0m\u001b[0;34m.\u001b[0m\u001b[0mhas_m\u001b[0m \u001b[0;32mif\u001b[0m \u001b[0m_geos_ge_312\u001b[0m \u001b[0;32melse\u001b[0m \u001b[0;32mFalse\u001b[0m\u001b[0;34m\u001b[0m\u001b[0;34m\u001b[0m\u001b[0m\n\u001b[0;32m--> 224\u001b[0;31m         \u001b[0mcoords_array\u001b[0m \u001b[0;34m=\u001b[0m \u001b[0mshapely\u001b[0m\u001b[0;34m.\u001b[0m\u001b[0mget_coordinates\u001b[0m\u001b[0;34m(\u001b[0m\u001b[0mself\u001b[0m\u001b[0;34m,\u001b[0m \u001b[0minclude_z\u001b[0m\u001b[0;34m=\u001b[0m\u001b[0mhas_z\u001b[0m\u001b[0;34m,\u001b[0m \u001b[0minclude_m\u001b[0m\u001b[0;34m=\u001b[0m\u001b[0mhas_m\u001b[0m\u001b[0;34m)\u001b[0m\u001b[0;34m\u001b[0m\u001b[0;34m\u001b[0m\u001b[0m\n\u001b[0m\u001b[1;32m    225\u001b[0m         \u001b[0;32mreturn\u001b[0m \u001b[0mCoordinateSequence\u001b[0m\u001b[0;34m(\u001b[0m\u001b[0mcoords_array\u001b[0m\u001b[0;34m)\u001b[0m\u001b[0;34m\u001b[0m\u001b[0;34m\u001b[0m\u001b[0m\n\u001b[1;32m    226\u001b[0m \u001b[0;34m\u001b[0m\u001b[0m\n",
            "\u001b[0;32m/usr/local/lib/python3.11/dist-packages/shapely/decorators.py\u001b[0m in \u001b[0;36mwrapper\u001b[0;34m(*args, **kwargs)\u001b[0m\n\u001b[1;32m    103\u001b[0m \u001b[0;34m\u001b[0m\u001b[0m\n\u001b[1;32m    104\u001b[0m             \u001b[0;31m# check signature to see which positional args were used\u001b[0m\u001b[0;34m\u001b[0m\u001b[0;34m\u001b[0m\u001b[0m\n\u001b[0;32m--> 105\u001b[0;31m             \u001b[0msig\u001b[0m \u001b[0;34m=\u001b[0m \u001b[0minspect\u001b[0m\u001b[0;34m.\u001b[0m\u001b[0msignature\u001b[0m\u001b[0;34m(\u001b[0m\u001b[0mfunc\u001b[0m\u001b[0;34m)\u001b[0m\u001b[0;34m\u001b[0m\u001b[0;34m\u001b[0m\u001b[0m\n\u001b[0m\u001b[1;32m    106\u001b[0m             \u001b[0margs_bind\u001b[0m \u001b[0;34m=\u001b[0m \u001b[0msig\u001b[0m\u001b[0;34m.\u001b[0m\u001b[0mbind_partial\u001b[0m\u001b[0;34m(\u001b[0m\u001b[0;34m*\u001b[0m\u001b[0margs\u001b[0m\u001b[0;34m)\u001b[0m\u001b[0;34m\u001b[0m\u001b[0;34m\u001b[0m\u001b[0m\n\u001b[1;32m    107\u001b[0m             warn_args = [\n",
            "\u001b[0;32m/usr/lib/python3.11/inspect.py\u001b[0m in \u001b[0;36msignature\u001b[0;34m(obj, follow_wrapped, globals, locals, eval_str)\u001b[0m\n\u001b[1;32m   3261\u001b[0m \u001b[0;32mdef\u001b[0m \u001b[0msignature\u001b[0m\u001b[0;34m(\u001b[0m\u001b[0mobj\u001b[0m\u001b[0;34m,\u001b[0m \u001b[0;34m*\u001b[0m\u001b[0;34m,\u001b[0m \u001b[0mfollow_wrapped\u001b[0m\u001b[0;34m=\u001b[0m\u001b[0;32mTrue\u001b[0m\u001b[0;34m,\u001b[0m \u001b[0mglobals\u001b[0m\u001b[0;34m=\u001b[0m\u001b[0;32mNone\u001b[0m\u001b[0;34m,\u001b[0m \u001b[0mlocals\u001b[0m\u001b[0;34m=\u001b[0m\u001b[0;32mNone\u001b[0m\u001b[0;34m,\u001b[0m \u001b[0meval_str\u001b[0m\u001b[0;34m=\u001b[0m\u001b[0;32mFalse\u001b[0m\u001b[0;34m)\u001b[0m\u001b[0;34m:\u001b[0m\u001b[0;34m\u001b[0m\u001b[0;34m\u001b[0m\u001b[0m\n\u001b[1;32m   3262\u001b[0m     \u001b[0;34m\"\"\"Get a signature object for the passed callable.\"\"\"\u001b[0m\u001b[0;34m\u001b[0m\u001b[0;34m\u001b[0m\u001b[0m\n\u001b[0;32m-> 3263\u001b[0;31m     return Signature.from_callable(obj, follow_wrapped=follow_wrapped,\n\u001b[0m\u001b[1;32m   3264\u001b[0m                                    globals=globals, locals=locals, eval_str=eval_str)\n\u001b[1;32m   3265\u001b[0m \u001b[0;34m\u001b[0m\u001b[0m\n",
            "\u001b[0;32m/usr/lib/python3.11/inspect.py\u001b[0m in \u001b[0;36mfrom_callable\u001b[0;34m(cls, obj, follow_wrapped, globals, locals, eval_str)\u001b[0m\n\u001b[1;32m   3009\u001b[0m                       follow_wrapped=True, globals=None, locals=None, eval_str=False):\n\u001b[1;32m   3010\u001b[0m         \u001b[0;34m\"\"\"Constructs Signature for the given callable object.\"\"\"\u001b[0m\u001b[0;34m\u001b[0m\u001b[0;34m\u001b[0m\u001b[0m\n\u001b[0;32m-> 3011\u001b[0;31m         return _signature_from_callable(obj, sigcls=cls,\n\u001b[0m\u001b[1;32m   3012\u001b[0m                                         \u001b[0mfollow_wrapper_chains\u001b[0m\u001b[0;34m=\u001b[0m\u001b[0mfollow_wrapped\u001b[0m\u001b[0;34m,\u001b[0m\u001b[0;34m\u001b[0m\u001b[0;34m\u001b[0m\u001b[0m\n\u001b[1;32m   3013\u001b[0m                                         globals=globals, locals=locals, eval_str=eval_str)\n",
            "\u001b[0;32m/usr/lib/python3.11/inspect.py\u001b[0m in \u001b[0;36m_signature_from_callable\u001b[0;34m(obj, follow_wrapper_chains, skip_bound_arg, globals, locals, eval_str, sigcls)\u001b[0m\n\u001b[1;32m   2521\u001b[0m         \u001b[0;31m# If it's a pure Python function, or an object that is duck type\u001b[0m\u001b[0;34m\u001b[0m\u001b[0;34m\u001b[0m\u001b[0m\n\u001b[1;32m   2522\u001b[0m         \u001b[0;31m# of a Python function (Cython functions, for instance), then:\u001b[0m\u001b[0;34m\u001b[0m\u001b[0;34m\u001b[0m\u001b[0m\n\u001b[0;32m-> 2523\u001b[0;31m         return _signature_from_function(sigcls, obj,\n\u001b[0m\u001b[1;32m   2524\u001b[0m                                         \u001b[0mskip_bound_arg\u001b[0m\u001b[0;34m=\u001b[0m\u001b[0mskip_bound_arg\u001b[0m\u001b[0;34m,\u001b[0m\u001b[0;34m\u001b[0m\u001b[0;34m\u001b[0m\u001b[0m\n\u001b[1;32m   2525\u001b[0m                                         globals=globals, locals=locals, eval_str=eval_str)\n",
            "\u001b[0;32m/usr/lib/python3.11/inspect.py\u001b[0m in \u001b[0;36m_signature_from_function\u001b[0;34m(cls, func, skip_bound_arg, globals, locals, eval_str)\u001b[0m\n\u001b[1;32m   2356\u001b[0m     \u001b[0mkeyword_only_count\u001b[0m \u001b[0;34m=\u001b[0m \u001b[0mfunc_code\u001b[0m\u001b[0;34m.\u001b[0m\u001b[0mco_kwonlyargcount\u001b[0m\u001b[0;34m\u001b[0m\u001b[0;34m\u001b[0m\u001b[0m\n\u001b[1;32m   2357\u001b[0m     \u001b[0mkeyword_only\u001b[0m \u001b[0;34m=\u001b[0m \u001b[0marg_names\u001b[0m\u001b[0;34m[\u001b[0m\u001b[0mpos_count\u001b[0m\u001b[0;34m:\u001b[0m\u001b[0mpos_count\u001b[0m \u001b[0;34m+\u001b[0m \u001b[0mkeyword_only_count\u001b[0m\u001b[0;34m]\u001b[0m\u001b[0;34m\u001b[0m\u001b[0;34m\u001b[0m\u001b[0m\n\u001b[0;32m-> 2358\u001b[0;31m     \u001b[0mannotations\u001b[0m \u001b[0;34m=\u001b[0m \u001b[0mget_annotations\u001b[0m\u001b[0;34m(\u001b[0m\u001b[0mfunc\u001b[0m\u001b[0;34m,\u001b[0m \u001b[0mglobals\u001b[0m\u001b[0;34m=\u001b[0m\u001b[0mglobals\u001b[0m\u001b[0;34m,\u001b[0m \u001b[0mlocals\u001b[0m\u001b[0;34m=\u001b[0m\u001b[0mlocals\u001b[0m\u001b[0;34m,\u001b[0m \u001b[0meval_str\u001b[0m\u001b[0;34m=\u001b[0m\u001b[0meval_str\u001b[0m\u001b[0;34m)\u001b[0m\u001b[0;34m\u001b[0m\u001b[0;34m\u001b[0m\u001b[0m\n\u001b[0m\u001b[1;32m   2359\u001b[0m     \u001b[0mdefaults\u001b[0m \u001b[0;34m=\u001b[0m \u001b[0mfunc\u001b[0m\u001b[0;34m.\u001b[0m\u001b[0m__defaults__\u001b[0m\u001b[0;34m\u001b[0m\u001b[0;34m\u001b[0m\u001b[0m\n\u001b[1;32m   2360\u001b[0m     \u001b[0mkwdefaults\u001b[0m \u001b[0;34m=\u001b[0m \u001b[0mfunc\u001b[0m\u001b[0;34m.\u001b[0m\u001b[0m__kwdefaults__\u001b[0m\u001b[0;34m\u001b[0m\u001b[0;34m\u001b[0m\u001b[0m\n",
            "\u001b[0;32m/usr/lib/python3.11/inspect.py\u001b[0m in \u001b[0;36mget_annotations\u001b[0;34m(obj, globals, locals, eval_str)\u001b[0m\n\u001b[1;32m    165\u001b[0m \u001b[0;34m\u001b[0m\u001b[0m\n\u001b[1;32m    166\u001b[0m \u001b[0;34m\u001b[0m\u001b[0m\n\u001b[0;32m--> 167\u001b[0;31m \u001b[0;32mdef\u001b[0m \u001b[0mget_annotations\u001b[0m\u001b[0;34m(\u001b[0m\u001b[0mobj\u001b[0m\u001b[0;34m,\u001b[0m \u001b[0;34m*\u001b[0m\u001b[0;34m,\u001b[0m \u001b[0mglobals\u001b[0m\u001b[0;34m=\u001b[0m\u001b[0;32mNone\u001b[0m\u001b[0;34m,\u001b[0m \u001b[0mlocals\u001b[0m\u001b[0;34m=\u001b[0m\u001b[0;32mNone\u001b[0m\u001b[0;34m,\u001b[0m \u001b[0meval_str\u001b[0m\u001b[0;34m=\u001b[0m\u001b[0;32mFalse\u001b[0m\u001b[0;34m)\u001b[0m\u001b[0;34m:\u001b[0m\u001b[0;34m\u001b[0m\u001b[0;34m\u001b[0m\u001b[0m\n\u001b[0m\u001b[1;32m    168\u001b[0m     \"\"\"Compute the annotations dict for an object.\n\u001b[1;32m    169\u001b[0m \u001b[0;34m\u001b[0m\u001b[0m\n",
            "\u001b[0;31mKeyboardInterrupt\u001b[0m: "
          ]
        }
      ]
    },
    {
      "cell_type": "code",
      "source": [
        "def normalize_street_name(name):\n",
        "    if isinstance(name, list):\n",
        "        name = name[0] if name else ''\n",
        "    elif name is None:\n",
        "        name = ''\n",
        "    return unicodedata.normalize('NFKD', str(name)).encode('ASCII', 'ignore').decode('utf-8').upper()\n",
        "\n",
        "gdf_rues['name'] = gdf_rues['name'].apply(normalize_street_name)\n"
      ],
      "metadata": {
        "id": "dxgvDu_UHnyr"
      },
      "execution_count": 5,
      "outputs": []
    },
    {
      "cell_type": "code",
      "source": [
        "# Tes coordonnées de test (ajoute autant que tu veux)\n",
        "coordinates = [\n",
        "    (48.8480778, 2.3505051),\n",
        "    (48.8523487, 2.3482382),\n",
        "    (48.8560699, 2.3507047),\n",
        "]\n",
        "\n",
        "gdf_points = gpd.GeoDataFrame(geometry=[Point(lon, lat) for lat, lon in coordinates], crs=\"EPSG:4326\")\n",
        "\n",
        "buffer_radius = 0.0002  # ~20m\n",
        "results = []\n",
        "\n",
        "for idx, point in gdf_points.iterrows():\n",
        "    buffer = point.geometry.buffer(buffer_radius)\n",
        "    matches = gdf_rues[gdf_rues.intersects(buffer)]\n",
        "    matched_names = matches[\"name\"].unique().tolist()\n",
        "    results.append({\n",
        "        \"point\": coordinates[idx],\n",
        "        \"matched_rues\": matched_names\n",
        "    })\n",
        "\n",
        "for r in results:\n",
        "    print(f\"📍 Point {r['point']} → {', '.join(r['matched_rues']) if r['matched_rues'] else '❌ Aucune rue détectée'}\")\n"
      ],
      "metadata": {
        "colab": {
          "base_uri": "https://localhost:8080/"
        },
        "id": "UWbRPwQWHwBL",
        "outputId": "658280cc-1f7c-4ccf-ab7f-5bdd8a73cc71"
      },
      "execution_count": 10,
      "outputs": [
        {
          "output_type": "stream",
          "name": "stdout",
          "text": [
            "📍 Point (48.8480778, 2.3505051) → RUE MONGE, RUE DES ECOLES\n",
            "📍 Point (48.8523487, 2.3482382) → QUAI DE MONTEBELLO, RUE LAGRANGE\n",
            "📍 Point (48.8560699, 2.3507047) → QUAI DE L'HOTEL DE VILLE, PLACE DE L'HOTEL DE VILLE, PONT D'ARCOLE, QUAI DE GESVRES\n"
          ]
        }
      ]
    },
    {
      "cell_type": "code",
      "source": [
        "# Tes coordonnées de test (ajoute autant que tu veux)\n",
        "coordinates = [\n",
        "    (48.8748138, 2.3573832),\n",
        "    (48.8689741, 2.3557506),\n",
        "    (48.8696795, 2.3507047),\n",
        "]\n",
        "\n",
        "gdf_points = gpd.GeoDataFrame(geometry=[Point(lon, lat) for lat, lon in coordinates], crs=\"EPSG:4326\")\n",
        "\n",
        "buffer_radius = 0.0002  # ~20m\n",
        "results = []\n",
        "\n",
        "for idx, point in gdf_points.iterrows():\n",
        "    buffer = point.geometry.buffer(buffer_radius)\n",
        "    matches = gdf_rues[gdf_rues.intersects(buffer)]\n",
        "    matched_names = matches[\"name\"].unique().tolist()\n",
        "    results.append({\n",
        "        \"point\": coordinates[idx],\n",
        "        \"matched_rues\": matched_names\n",
        "    })\n",
        "\n",
        "for r in results:\n",
        "    print(f\"📍 Point {r['point']} → {', '.join(r['matched_rues']) if r['matched_rues'] else '❌ Aucune rue détectée'}\")\n"
      ],
      "metadata": {
        "colab": {
          "base_uri": "https://localhost:8080/"
        },
        "id": "dSGErrw5H1jz",
        "outputId": "ec7d9c43-e114-4224-8aca-54878a79187e"
      },
      "execution_count": 7,
      "outputs": [
        {
          "output_type": "stream",
          "name": "stdout",
          "text": [
            "📍 Point (48.8748138, 2.3573832) → BOULEVARD DE MAGENTA, BOULEVARD DE STRASBOURG, RUE DE LA FIDELITE\n",
            "📍 Point (48.8689741, 2.3557506) → BOULEVARD SAINT-DENIS, BOULEVARD SAINT-MARTIN, RUE SAINT-MARTIN, CARREFOUR DES THEATRES\n",
            "📍 Point (48.8696795, 2.3507047) → RUE BEAUREGARD, RUE DE LA LUNE\n"
          ]
        }
      ]
    },
    {
      "cell_type": "code",
      "source": [
        "# Tes coordonnées de test (ajoute autant que tu veux)\n",
        "coordinates = [\n",
        "    (48.8804947, 2.3523043),\n",
        "    (48.8719982, 2.3400527),\n",
        "    (48.8722422, 2.3382998),\n",
        "    (48.8729396,2.3332569),\n",
        "    (48.8742709,2.3313146),\n",
        "    (48.8742988,2.3327119),\n",
        "    (48.8761423,2.3311152)\n",
        "]\n",
        "\n",
        "gdf_points = gpd.GeoDataFrame(geometry=[Point(lon, lat) for lat, lon in coordinates], crs=\"EPSG:4326\")\n",
        "\n",
        "buffer_radius = 0.0002  # ~20m\n",
        "results = []\n",
        "\n",
        "for idx, point in gdf_points.iterrows():\n",
        "    buffer = point.geometry.buffer(buffer_radius)\n",
        "    matches = gdf_rues[gdf_rues.intersects(buffer)]\n",
        "    matched_names = matches[\"name\"].unique().tolist()\n",
        "    results.append({\n",
        "        \"point\": coordinates[idx],\n",
        "        \"matched_rues\": matched_names\n",
        "    })\n",
        "\n",
        "for r in results:\n",
        "    print(f\"📍 Point {r['point']} → {', '.join(r['matched_rues']) if r['matched_rues'] else '❌ Aucune rue détectée'}\")\n"
      ],
      "metadata": {
        "colab": {
          "base_uri": "https://localhost:8080/"
        },
        "id": "9wN1Ua7NH3jR",
        "outputId": "493d5c65-8c51-4b3d-9975-780595682864"
      },
      "execution_count": 11,
      "outputs": [
        {
          "output_type": "stream",
          "name": "stdout",
          "text": [
            "📍 Point (48.8804947, 2.3523043) → BOULEVARD DE MAGENTA, RUE SAINT-VINCENT DE PAUL, RUE DE MAUBEUGE, RUE DE DUNKERQUE\n",
            "📍 Point (48.8719982, 2.3400527) → RUE DE RICHELIEU, BOULEVARD HAUSSMANN, RUE DROUOT, BOULEVARD MONTMARTRE, BOULEVARD DES ITALIENS\n",
            "📍 Point (48.8722422, 2.3382998) → BOULEVARD HAUSSMANN, RUE LE PELETIER\n",
            "📍 Point (48.8729396, 2.3332569) → RUE DE LA CHAUSSEE-D'ANTIN, BOULEVARD HAUSSMANN, PLACE THEOPHILE BADER, RUE HALEVY, RUE LA FAYETTE\n",
            "📍 Point (48.8742709, 2.3313146) → RUE DE PROVENCE, RUE DE MOGADOR\n",
            "📍 Point (48.8742988, 2.3327119) → RUE DE PROVENCE, RUE DE LA CHAUSSEE-D'ANTIN\n",
            "📍 Point (48.8761423, 2.3311152) → RUE SAINT-LAZARE, RUE DE MOGADOR\n"
          ]
        }
      ]
    },
    {
      "cell_type": "code",
      "source": [],
      "metadata": {
        "id": "k6vTvBEsQBGD"
      },
      "execution_count": null,
      "outputs": []
    },
    {
      "cell_type": "markdown",
      "source": [
        "# Création du fichier pour les croisement\n"
      ],
      "metadata": {
        "id": "M7OStw-9QEf7"
      }
    },
    {
      "cell_type": "code",
      "source": [
        "# 📦 Si nécessaire, installe les dépendances :\n",
        "# !pip install geopandas openpyxl pandas shapely\n",
        "\n",
        "import geopandas as gpd\n",
        "import pandas as pd\n",
        "from shapely.geometry import Point\n"
      ],
      "metadata": {
        "id": "zh74KG3AQKVq"
      },
      "execution_count": 13,
      "outputs": []
    },
    {
      "cell_type": "code",
      "source": [
        "from google.colab import files\n",
        "uploaded = files.upload()\n"
      ],
      "metadata": {
        "colab": {
          "base_uri": "https://localhost:8080/",
          "height": 73
        },
        "id": "gunRrTNxRan7",
        "outputId": "5fa67d7c-f56b-41ef-fc8c-c123fabc9c8f"
      },
      "execution_count": 15,
      "outputs": [
        {
          "output_type": "display_data",
          "data": {
            "text/plain": [
              "<IPython.core.display.HTML object>"
            ],
            "text/html": [
              "\n",
              "     <input type=\"file\" id=\"files-1875a0cb-ab2e-4d3e-af1a-6932b74312fd\" name=\"files[]\" multiple disabled\n",
              "        style=\"border:none\" />\n",
              "     <output id=\"result-1875a0cb-ab2e-4d3e-af1a-6932b74312fd\">\n",
              "      Upload widget is only available when the cell has been executed in the\n",
              "      current browser session. Please rerun this cell to enable.\n",
              "      </output>\n",
              "      <script>// Copyright 2017 Google LLC\n",
              "//\n",
              "// Licensed under the Apache License, Version 2.0 (the \"License\");\n",
              "// you may not use this file except in compliance with the License.\n",
              "// You may obtain a copy of the License at\n",
              "//\n",
              "//      http://www.apache.org/licenses/LICENSE-2.0\n",
              "//\n",
              "// Unless required by applicable law or agreed to in writing, software\n",
              "// distributed under the License is distributed on an \"AS IS\" BASIS,\n",
              "// WITHOUT WARRANTIES OR CONDITIONS OF ANY KIND, either express or implied.\n",
              "// See the License for the specific language governing permissions and\n",
              "// limitations under the License.\n",
              "\n",
              "/**\n",
              " * @fileoverview Helpers for google.colab Python module.\n",
              " */\n",
              "(function(scope) {\n",
              "function span(text, styleAttributes = {}) {\n",
              "  const element = document.createElement('span');\n",
              "  element.textContent = text;\n",
              "  for (const key of Object.keys(styleAttributes)) {\n",
              "    element.style[key] = styleAttributes[key];\n",
              "  }\n",
              "  return element;\n",
              "}\n",
              "\n",
              "// Max number of bytes which will be uploaded at a time.\n",
              "const MAX_PAYLOAD_SIZE = 100 * 1024;\n",
              "\n",
              "function _uploadFiles(inputId, outputId) {\n",
              "  const steps = uploadFilesStep(inputId, outputId);\n",
              "  const outputElement = document.getElementById(outputId);\n",
              "  // Cache steps on the outputElement to make it available for the next call\n",
              "  // to uploadFilesContinue from Python.\n",
              "  outputElement.steps = steps;\n",
              "\n",
              "  return _uploadFilesContinue(outputId);\n",
              "}\n",
              "\n",
              "// This is roughly an async generator (not supported in the browser yet),\n",
              "// where there are multiple asynchronous steps and the Python side is going\n",
              "// to poll for completion of each step.\n",
              "// This uses a Promise to block the python side on completion of each step,\n",
              "// then passes the result of the previous step as the input to the next step.\n",
              "function _uploadFilesContinue(outputId) {\n",
              "  const outputElement = document.getElementById(outputId);\n",
              "  const steps = outputElement.steps;\n",
              "\n",
              "  const next = steps.next(outputElement.lastPromiseValue);\n",
              "  return Promise.resolve(next.value.promise).then((value) => {\n",
              "    // Cache the last promise value to make it available to the next\n",
              "    // step of the generator.\n",
              "    outputElement.lastPromiseValue = value;\n",
              "    return next.value.response;\n",
              "  });\n",
              "}\n",
              "\n",
              "/**\n",
              " * Generator function which is called between each async step of the upload\n",
              " * process.\n",
              " * @param {string} inputId Element ID of the input file picker element.\n",
              " * @param {string} outputId Element ID of the output display.\n",
              " * @return {!Iterable<!Object>} Iterable of next steps.\n",
              " */\n",
              "function* uploadFilesStep(inputId, outputId) {\n",
              "  const inputElement = document.getElementById(inputId);\n",
              "  inputElement.disabled = false;\n",
              "\n",
              "  const outputElement = document.getElementById(outputId);\n",
              "  outputElement.innerHTML = '';\n",
              "\n",
              "  const pickedPromise = new Promise((resolve) => {\n",
              "    inputElement.addEventListener('change', (e) => {\n",
              "      resolve(e.target.files);\n",
              "    });\n",
              "  });\n",
              "\n",
              "  const cancel = document.createElement('button');\n",
              "  inputElement.parentElement.appendChild(cancel);\n",
              "  cancel.textContent = 'Cancel upload';\n",
              "  const cancelPromise = new Promise((resolve) => {\n",
              "    cancel.onclick = () => {\n",
              "      resolve(null);\n",
              "    };\n",
              "  });\n",
              "\n",
              "  // Wait for the user to pick the files.\n",
              "  const files = yield {\n",
              "    promise: Promise.race([pickedPromise, cancelPromise]),\n",
              "    response: {\n",
              "      action: 'starting',\n",
              "    }\n",
              "  };\n",
              "\n",
              "  cancel.remove();\n",
              "\n",
              "  // Disable the input element since further picks are not allowed.\n",
              "  inputElement.disabled = true;\n",
              "\n",
              "  if (!files) {\n",
              "    return {\n",
              "      response: {\n",
              "        action: 'complete',\n",
              "      }\n",
              "    };\n",
              "  }\n",
              "\n",
              "  for (const file of files) {\n",
              "    const li = document.createElement('li');\n",
              "    li.append(span(file.name, {fontWeight: 'bold'}));\n",
              "    li.append(span(\n",
              "        `(${file.type || 'n/a'}) - ${file.size} bytes, ` +\n",
              "        `last modified: ${\n",
              "            file.lastModifiedDate ? file.lastModifiedDate.toLocaleDateString() :\n",
              "                                    'n/a'} - `));\n",
              "    const percent = span('0% done');\n",
              "    li.appendChild(percent);\n",
              "\n",
              "    outputElement.appendChild(li);\n",
              "\n",
              "    const fileDataPromise = new Promise((resolve) => {\n",
              "      const reader = new FileReader();\n",
              "      reader.onload = (e) => {\n",
              "        resolve(e.target.result);\n",
              "      };\n",
              "      reader.readAsArrayBuffer(file);\n",
              "    });\n",
              "    // Wait for the data to be ready.\n",
              "    let fileData = yield {\n",
              "      promise: fileDataPromise,\n",
              "      response: {\n",
              "        action: 'continue',\n",
              "      }\n",
              "    };\n",
              "\n",
              "    // Use a chunked sending to avoid message size limits. See b/62115660.\n",
              "    let position = 0;\n",
              "    do {\n",
              "      const length = Math.min(fileData.byteLength - position, MAX_PAYLOAD_SIZE);\n",
              "      const chunk = new Uint8Array(fileData, position, length);\n",
              "      position += length;\n",
              "\n",
              "      const base64 = btoa(String.fromCharCode.apply(null, chunk));\n",
              "      yield {\n",
              "        response: {\n",
              "          action: 'append',\n",
              "          file: file.name,\n",
              "          data: base64,\n",
              "        },\n",
              "      };\n",
              "\n",
              "      let percentDone = fileData.byteLength === 0 ?\n",
              "          100 :\n",
              "          Math.round((position / fileData.byteLength) * 100);\n",
              "      percent.textContent = `${percentDone}% done`;\n",
              "\n",
              "    } while (position < fileData.byteLength);\n",
              "  }\n",
              "\n",
              "  // All done.\n",
              "  yield {\n",
              "    response: {\n",
              "      action: 'complete',\n",
              "    }\n",
              "  };\n",
              "}\n",
              "\n",
              "scope.google = scope.google || {};\n",
              "scope.google.colab = scope.google.colab || {};\n",
              "scope.google.colab._files = {\n",
              "  _uploadFiles,\n",
              "  _uploadFilesContinue,\n",
              "};\n",
              "})(self);\n",
              "</script> "
            ]
          },
          "metadata": {}
        },
        {
          "output_type": "stream",
          "name": "stdout",
          "text": [
            "Saving intersections.geojson to intersections.geojson\n"
          ]
        }
      ]
    },
    {
      "cell_type": "code",
      "source": [
        "# 📦 Assurez-vous que ces libs sont installées si ce n'est pas déjà fait :\n",
        "# !pip install osmnx geopandas\n",
        "\n",
        "import osmnx as ox\n",
        "import geopandas as gpd\n",
        "\n",
        "# 📂 1. Charger tes points d’intersection depuis le fichier que TU uploades dans Colab\n",
        "gdf_points = gpd.read_file(\"intersections.geojson\")\n",
        "\n",
        "# 🌍 2. Télécharger le graphe routier complet de Paris\n",
        "G = ox.graph_from_place(\"Paris, France\", network_type='drive')\n",
        "\n",
        "# 🛣️ 3. Extraire les rues avec leurs géométries\n",
        "gdf_rues = ox.graph_to_gdfs(G, nodes=False, edges=True)\n",
        "gdf_rues = gdf_rues[gdf_rues[\"name\"].notna()]  # Garder uniquement les rues nommées\n",
        "\n",
        "# 🧭 4. S’assurer que tout est en EPSG:4326\n",
        "gdf_points = gdf_points.to_crs(epsg=4326)\n",
        "gdf_rues = gdf_rues.to_crs(epsg=4326)\n"
      ],
      "metadata": {
        "collapsed": true,
        "id": "eJDHd2tDQfNO"
      },
      "execution_count": 16,
      "outputs": []
    },
    {
      "cell_type": "code",
      "source": [
        "!pip install unidecode --quiet"
      ],
      "metadata": {
        "colab": {
          "base_uri": "https://localhost:8080/"
        },
        "id": "OqdtFnG9R5cU",
        "outputId": "a027fec9-9368-40c4-c440-14c831ab9c99"
      },
      "execution_count": 18,
      "outputs": [
        {
          "output_type": "stream",
          "name": "stdout",
          "text": [
            "Collecting unidecode\n",
            "  Downloading Unidecode-1.3.8-py3-none-any.whl.metadata (13 kB)\n",
            "Downloading Unidecode-1.3.8-py3-none-any.whl (235 kB)\n",
            "\u001b[?25l   \u001b[90m━━━━━━━━━━━━━━━━━━━━━━━━━━━━━━━━━━━━━━━━\u001b[0m \u001b[32m0.0/235.5 kB\u001b[0m \u001b[31m?\u001b[0m eta \u001b[36m-:--:--\u001b[0m\r\u001b[2K   \u001b[90m━━━━━━━━━━━━━━━━━━━━━━━━━━━━━━━━━━━━━━━━\u001b[0m \u001b[32m235.5/235.5 kB\u001b[0m \u001b[31m7.4 MB/s\u001b[0m eta \u001b[36m0:00:00\u001b[0m\n",
            "\u001b[?25hInstalling collected packages: unidecode\n",
            "Successfully installed unidecode-1.3.8\n"
          ]
        }
      ]
    },
    {
      "cell_type": "code",
      "source": [
        "from unidecode import unidecode  # pour enlever les accents\n",
        "\n",
        "buffer_radius = 0.0002  # ~20 mètres\n",
        "results = []\n",
        "\n",
        "def nettoyer_nom(nom):\n",
        "    \"\"\"Nettoyage du nom de rue : supprime accents, type de voie, espaces\"\"\"\n",
        "    if isinstance(nom, list):\n",
        "        noms_plats = [nettoyer_nom(x) for x in nom]\n",
        "        return noms_plats\n",
        "    nom = unidecode(nom.upper())\n",
        "    for mot in [\"RUE \", \"AVENUE \", \"AV \", \"BD \", \"BOULEVARD \", \"PLACE \", \"CHEMIN \", \"IMPASSE \"]:\n",
        "        nom = nom.replace(mot, \"\")\n",
        "    return nom.strip().replace(\" \", \"_\")\n",
        "\n",
        "for idx, point in gdf_points.iterrows():\n",
        "    buffer = point.geometry.buffer(buffer_radius)\n",
        "    matches = gdf_rues[gdf_rues.intersects(buffer)]\n",
        "\n",
        "    noms_raw = matches[\"name\"].dropna().tolist()\n",
        "\n",
        "    noms_nets = []\n",
        "    for entry in noms_raw:\n",
        "        if isinstance(entry, list):\n",
        "            noms_nets.extend(entry)  # ajoute chaque sous-nom de la liste\n",
        "        else:\n",
        "            noms_nets.append(entry)\n",
        "\n",
        "    noms_nets = [nettoyer_nom(n) for n in noms_nets]\n",
        "    noms_nets = sorted(set(n for nom in noms_nets for n in (nom if isinstance(nom, list) else [nom])))[:2]  # max 2 noms\n",
        "\n",
        "    if len(noms_nets) == 2:\n",
        "        croisement = f\"CROIST_{noms_nets[0]}_{noms_nets[1]}\"\n",
        "    elif len(noms_nets) == 1:\n",
        "        croisement = f\"CROIST_{noms_nets[0]}\"\n",
        "    else:\n",
        "        croisement = \"INCONNU\"\n",
        "\n",
        "    results.append({\n",
        "        \"id\": tuple(round(coord, 7) for coord in (point.geometry.y, point.geometry.x)),\n",
        "        \"nom\": croisement\n",
        "    })\n"
      ],
      "metadata": {
        "id": "QOm1b1zGRz06"
      },
      "execution_count": 20,
      "outputs": []
    },
    {
      "cell_type": "code",
      "source": [
        "# ✅ Convertir en DataFrame et exporter\n",
        "df_result = pd.DataFrame(results)\n",
        "df_result.to_excel(\"liste_croisement.xlsx\", index=False)\n",
        "\n",
        "print(\"✅ Export terminé → liste_croisement.xlsx\")\n"
      ],
      "metadata": {
        "colab": {
          "base_uri": "https://localhost:8080/"
        },
        "id": "ocQ5zUpMShz0",
        "outputId": "b2ea1b81-0d0e-4160-a4c6-4a21090f3c7e"
      },
      "execution_count": 21,
      "outputs": [
        {
          "output_type": "stream",
          "name": "stdout",
          "text": [
            "✅ Export terminé → liste_croisement.xlsx\n"
          ]
        }
      ]
    }
  ]
}